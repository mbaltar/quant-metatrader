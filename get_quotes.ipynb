{
 "cells": [
  {
   "cell_type": "code",
   "execution_count": 1,
   "metadata": {},
   "outputs": [],
   "source": [
    "import MetaTrader5 as mt5\n",
    "import pandas as pd\n",
    "import matplotlib.pyplot as plt"
   ]
  },
  {
   "cell_type": "code",
   "execution_count": 8,
   "metadata": {},
   "outputs": [
    {
     "name": "stdout",
     "output_type": "stream",
     "text": [
      "C:\\Users\\mbalt\\OneDrive\\Documentos\\Finanças\\base_dados\\market_data\\IBOV.csv\n"
     ]
    }
   ],
   "source": [
    "from pathlib import Path\n",
    "home = str(Path.home())\n",
    "path_to_data = Path('OneDrive/Documentos/Finanças/base_dados/market_data/IBOV.csv')\n",
    "final_path = home / path_to_data\n",
    "# Para pegar a carteira IBOV tem que ir no site da B3 e baixar o arquivo csv\n",
    "# Link: http://bvmf.bmfbovespa.com.br/indices/ResumoCarteiraTeorica.aspx?Indice=IBOV&amp;idioma=pt-br\n",
    "# Link 2: https://www.b3.com.br/pt_br/market-data-e-indices/indices/indices-amplos/indice-ibovespa-ibovespa-composicao-da-carteira.htm\n",
    "# No final da página tem o link para baixar a carteira.\n"
   ]
  },
  {
   "cell_type": "code",
   "execution_count": 7,
   "metadata": {},
   "outputs": [
    {
     "name": "stdout",
     "output_type": "stream",
     "text": [
      "(500, 3180, '28 Jan 2022')\n",
      "TerminalInfo(community_account=True, community_connection=True, connected=True, dlls_allowed=False, trade_allowed=False, tradeapi_disabled=False, email_enabled=False, ftp_enabled=False, notifications_enabled=True, mqid=True, build=3180, maxbars=100000, codepage=0, ping_last=15646, community_balance=0.0, retransmission=0.0, company='MetaQuotes Software Corp.', name='MetaTrader 5', language='English', path='C:\\\\Program Files\\\\MetaTrader 5', data_path='C:\\\\Users\\\\mbalt\\\\AppData\\\\Roaming\\\\MetaQuotes\\\\Terminal\\\\D0E8209F77C8CF37AD8BF550E51FF075', commondata_path='C:\\\\Users\\\\mbalt\\\\AppData\\\\Roaming\\\\MetaQuotes\\\\Terminal\\\\Common')\n"
     ]
    }
   ],
   "source": [
    "if not mt5.initialize():\n",
    "    print(\"Initialize() falhou\")\n",
    "    mt5.shutdown()\n",
    "else:\n",
    "    print(mt5.version())\n",
    "    print(mt5.terminal_info())"
   ]
  },
  {
   "cell_type": "code",
   "execution_count": 8,
   "metadata": {},
   "outputs": [
    {
     "data": {
      "text/plain": [
       "True"
      ]
     },
     "execution_count": 8,
     "metadata": {},
     "output_type": "execute_result"
    }
   ],
   "source": [
    "symbols = ['GOAU4', 'WEGE3', 'VVAR3', 'PRIO3', 'MRFG3']\n",
    "data = pd.DataFrame()\n",
    "for i in symbols:\n",
    "    rates = mt5.copy_rates_from_pos(i, mt5.TIMEFRAME_D1, 0, 1000)\n",
    "    data[i] = [y['close'] for y in rates]\n",
    "mt5.shutdown()"
   ]
  },
  {
   "cell_type": "code",
   "execution_count": 9,
   "metadata": {},
   "outputs": [
    {
     "data": {
      "text/html": [
       "<div>\n",
       "<style scoped>\n",
       "    .dataframe tbody tr th:only-of-type {\n",
       "        vertical-align: middle;\n",
       "    }\n",
       "\n",
       "    .dataframe tbody tr th {\n",
       "        vertical-align: top;\n",
       "    }\n",
       "\n",
       "    .dataframe thead th {\n",
       "        text-align: right;\n",
       "    }\n",
       "</style>\n",
       "<table border=\"1\" class=\"dataframe\">\n",
       "  <thead>\n",
       "    <tr style=\"text-align: right;\">\n",
       "      <th></th>\n",
       "      <th>GOAU4</th>\n",
       "      <th>WEGE3</th>\n",
       "      <th>VVAR3</th>\n",
       "      <th>PRIO3</th>\n",
       "      <th>MRFG3</th>\n",
       "    </tr>\n",
       "  </thead>\n",
       "  <tbody>\n",
       "    <tr>\n",
       "      <th>0</th>\n",
       "      <td>6.59</td>\n",
       "      <td>9.54</td>\n",
       "      <td>5.95</td>\n",
       "      <td>1.80</td>\n",
       "      <td>6.60</td>\n",
       "    </tr>\n",
       "    <tr>\n",
       "      <th>1</th>\n",
       "      <td>6.36</td>\n",
       "      <td>9.41</td>\n",
       "      <td>6.07</td>\n",
       "      <td>1.74</td>\n",
       "      <td>6.42</td>\n",
       "    </tr>\n",
       "    <tr>\n",
       "      <th>2</th>\n",
       "      <td>6.69</td>\n",
       "      <td>9.53</td>\n",
       "      <td>5.84</td>\n",
       "      <td>1.76</td>\n",
       "      <td>6.87</td>\n",
       "    </tr>\n",
       "    <tr>\n",
       "      <th>3</th>\n",
       "      <td>6.83</td>\n",
       "      <td>9.43</td>\n",
       "      <td>5.68</td>\n",
       "      <td>1.70</td>\n",
       "      <td>6.76</td>\n",
       "    </tr>\n",
       "    <tr>\n",
       "      <th>4</th>\n",
       "      <td>6.70</td>\n",
       "      <td>9.14</td>\n",
       "      <td>5.58</td>\n",
       "      <td>1.73</td>\n",
       "      <td>6.79</td>\n",
       "    </tr>\n",
       "    <tr>\n",
       "      <th>...</th>\n",
       "      <td>...</td>\n",
       "      <td>...</td>\n",
       "      <td>...</td>\n",
       "      <td>...</td>\n",
       "      <td>...</td>\n",
       "    </tr>\n",
       "    <tr>\n",
       "      <th>995</th>\n",
       "      <td>11.57</td>\n",
       "      <td>32.16</td>\n",
       "      <td>12.74</td>\n",
       "      <td>23.92</td>\n",
       "      <td>22.48</td>\n",
       "    </tr>\n",
       "    <tr>\n",
       "      <th>996</th>\n",
       "      <td>11.89</td>\n",
       "      <td>32.06</td>\n",
       "      <td>12.97</td>\n",
       "      <td>23.74</td>\n",
       "      <td>22.31</td>\n",
       "    </tr>\n",
       "    <tr>\n",
       "      <th>997</th>\n",
       "      <td>11.88</td>\n",
       "      <td>31.77</td>\n",
       "      <td>13.15</td>\n",
       "      <td>23.03</td>\n",
       "      <td>21.75</td>\n",
       "    </tr>\n",
       "    <tr>\n",
       "      <th>998</th>\n",
       "      <td>11.82</td>\n",
       "      <td>30.95</td>\n",
       "      <td>12.07</td>\n",
       "      <td>22.74</td>\n",
       "      <td>20.14</td>\n",
       "    </tr>\n",
       "    <tr>\n",
       "      <th>999</th>\n",
       "      <td>11.80</td>\n",
       "      <td>30.85</td>\n",
       "      <td>11.31</td>\n",
       "      <td>24.41</td>\n",
       "      <td>20.32</td>\n",
       "    </tr>\n",
       "  </tbody>\n",
       "</table>\n",
       "<p>1000 rows × 5 columns</p>\n",
       "</div>"
      ],
      "text/plain": [
       "     GOAU4  WEGE3  VVAR3  PRIO3  MRFG3\n",
       "0     6.59   9.54   5.95   1.80   6.60\n",
       "1     6.36   9.41   6.07   1.74   6.42\n",
       "2     6.69   9.53   5.84   1.76   6.87\n",
       "3     6.83   9.43   5.68   1.70   6.76\n",
       "4     6.70   9.14   5.58   1.73   6.79\n",
       "..     ...    ...    ...    ...    ...\n",
       "995  11.57  32.16  12.74  23.92  22.48\n",
       "996  11.89  32.06  12.97  23.74  22.31\n",
       "997  11.88  31.77  13.15  23.03  21.75\n",
       "998  11.82  30.95  12.07  22.74  20.14\n",
       "999  11.80  30.85  11.31  24.41  20.32\n",
       "\n",
       "[1000 rows x 5 columns]"
      ]
     },
     "execution_count": 9,
     "metadata": {},
     "output_type": "execute_result"
    }
   ],
   "source": [
    "data"
   ]
  }
 ],
 "metadata": {
  "interpreter": {
   "hash": "c11b912302992c422148b13c4165aadb447a6c82fba12efef8ac38fb7f52a86c"
  },
  "kernelspec": {
   "display_name": "Python 3.9.7 ('MetaTrader')",
   "language": "python",
   "name": "python3"
  },
  "language_info": {
   "codemirror_mode": {
    "name": "ipython",
    "version": 3
   },
   "file_extension": ".py",
   "mimetype": "text/x-python",
   "name": "python",
   "nbconvert_exporter": "python",
   "pygments_lexer": "ipython3",
   "version": "3.9.7"
  },
  "orig_nbformat": 4
 },
 "nbformat": 4,
 "nbformat_minor": 2
}
